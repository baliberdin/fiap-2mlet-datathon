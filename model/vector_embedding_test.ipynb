{
 "cells": [
  {
   "cell_type": "code",
   "execution_count": 83,
   "id": "c2483b50",
   "metadata": {},
   "outputs": [],
   "source": [
    "import faiss\n",
    "import torch\n",
    "from transformers import AutoTokenizer, AutoModel, AutoModelForSequenceClassification\n",
    "import numpy as np"
   ]
  },
  {
   "cell_type": "code",
   "execution_count": 93,
   "id": "b04498b9",
   "metadata": {},
   "outputs": [
    {
     "data": {
      "text/plain": [
       "BertModel(\n",
       "  (embeddings): BertEmbeddings(\n",
       "    (word_embeddings): Embedding(29794, 768, padding_idx=0)\n",
       "    (position_embeddings): Embedding(512, 768)\n",
       "    (token_type_embeddings): Embedding(2, 768)\n",
       "    (LayerNorm): LayerNorm((768,), eps=1e-12, elementwise_affine=True)\n",
       "    (dropout): Dropout(p=0.1, inplace=False)\n",
       "  )\n",
       "  (encoder): BertEncoder(\n",
       "    (layer): ModuleList(\n",
       "      (0-11): 12 x BertLayer(\n",
       "        (attention): BertAttention(\n",
       "          (self): BertSdpaSelfAttention(\n",
       "            (query): Linear(in_features=768, out_features=768, bias=True)\n",
       "            (key): Linear(in_features=768, out_features=768, bias=True)\n",
       "            (value): Linear(in_features=768, out_features=768, bias=True)\n",
       "            (dropout): Dropout(p=0.1, inplace=False)\n",
       "          )\n",
       "          (output): BertSelfOutput(\n",
       "            (dense): Linear(in_features=768, out_features=768, bias=True)\n",
       "            (LayerNorm): LayerNorm((768,), eps=1e-12, elementwise_affine=True)\n",
       "            (dropout): Dropout(p=0.1, inplace=False)\n",
       "          )\n",
       "        )\n",
       "        (intermediate): BertIntermediate(\n",
       "          (dense): Linear(in_features=768, out_features=3072, bias=True)\n",
       "          (intermediate_act_fn): GELUActivation()\n",
       "        )\n",
       "        (output): BertOutput(\n",
       "          (dense): Linear(in_features=3072, out_features=768, bias=True)\n",
       "          (LayerNorm): LayerNorm((768,), eps=1e-12, elementwise_affine=True)\n",
       "          (dropout): Dropout(p=0.1, inplace=False)\n",
       "        )\n",
       "      )\n",
       "    )\n",
       "  )\n",
       "  (pooler): BertPooler(\n",
       "    (dense): Linear(in_features=768, out_features=768, bias=True)\n",
       "    (activation): Tanh()\n",
       "  )\n",
       ")"
      ]
     },
     "execution_count": 93,
     "metadata": {},
     "output_type": "execute_result"
    }
   ],
   "source": [
    "# Carrega modelo e tokenizer\n",
    "model_name = \"neuralmind/bert-base-portuguese-cased\"\n",
    "# model_name = \"../trained_model_bert_20250508\"\n",
    "tokenizer_name = model_name # \"../tokenizer_model_bert_20250508\" \n",
    "tokenizer = AutoTokenizer.from_pretrained(tokenizer_name)\n",
    "model = AutoModel.from_pretrained(model_name)\n",
    "model.eval()"
   ]
  },
  {
   "cell_type": "code",
   "execution_count": null,
   "id": "0125a8e0",
   "metadata": {},
   "outputs": [],
   "source": []
  },
  {
   "cell_type": "code",
   "execution_count": 94,
   "id": "dd06bef6",
   "metadata": {},
   "outputs": [],
   "source": [
    "# Função para gerar embedding médio da sequência\n",
    "def get_embedding(text):\n",
    "    inputs = tokenizer(text, return_tensors=\"pt\", truncation=True, padding=True, max_length=512)\n",
    "    with torch.no_grad():\n",
    "        outputs = model(**inputs)\n",
    "    # Média dos embeddings dos tokens (ignorando padding)\n",
    "    attention_mask = inputs[\"attention_mask\"]\n",
    "    embeddings = outputs.last_hidden_state\n",
    "    mask_expanded = attention_mask.unsqueeze(-1).expand(embeddings.size()).float()\n",
    "    sum_embeddings = torch.sum(embeddings * mask_expanded, 1)\n",
    "    sum_mask = torch.clamp(mask_expanded.sum(1), min=1e-9)\n",
    "    mean_embedding = sum_embeddings / sum_mask\n",
    "    return mean_embedding.squeeze().numpy()"
   ]
  },
  {
   "cell_type": "code",
   "execution_count": 95,
   "id": "11789909",
   "metadata": {},
   "outputs": [],
   "source": [
    "# Exemplo: lista de candidatos\n",
    "candidatos = [\n",
    "    \"Engenheira de ML com foco em PLN e experiência em transformers.\",\n",
    "    \"Desenvolvedor Python sênior com interesse em machine learning.\",\n",
    "    \"Cientista de dados especializado em análise estatística.\",\n",
    "]"
   ]
  },
  {
   "cell_type": "code",
   "execution_count": 96,
   "id": "f6a45f1c",
   "metadata": {},
   "outputs": [],
   "source": [
    "# Gerar os embeddings\n",
    "candidato_vectors = np.array([get_embedding(c) for c in candidatos]).astype('float32')"
   ]
  },
  {
   "cell_type": "code",
   "execution_count": 97,
   "id": "468b1fbd",
   "metadata": {},
   "outputs": [
    {
     "data": {
      "text/plain": [
       "array([[-0.0026896 , -0.14589028,  0.25189942, ...,  0.33188975,\n",
       "        -0.0307875 , -0.2937785 ],\n",
       "       [ 0.24450561, -0.26835427,  0.39407265, ...,  0.3397092 ,\n",
       "        -0.25220516, -0.48452526],\n",
       "       [-0.09076482, -0.29330108,  0.9696869 , ..., -0.02338456,\n",
       "         0.08178648, -0.00464135]], shape=(3, 768), dtype=float32)"
      ]
     },
     "execution_count": 97,
     "metadata": {},
     "output_type": "execute_result"
    }
   ],
   "source": [
    "candidato_vectors"
   ]
  },
  {
   "cell_type": "code",
   "execution_count": 98,
   "id": "9973eb24",
   "metadata": {},
   "outputs": [
    {
     "data": {
      "text/plain": [
       "array([[-0.0026896 , -0.14589028,  0.25189942, ...,  0.33188975,\n",
       "        -0.0307875 , -0.2937785 ],\n",
       "       [ 0.24450561, -0.26835427,  0.39407265, ...,  0.3397092 ,\n",
       "        -0.25220516, -0.48452526],\n",
       "       [-0.09076482, -0.29330108,  0.9696869 , ..., -0.02338456,\n",
       "         0.08178648, -0.00464135]], shape=(3, 768), dtype=float32)"
      ]
     },
     "execution_count": 98,
     "metadata": {},
     "output_type": "execute_result"
    }
   ],
   "source": [
    "candidato_vectors"
   ]
  },
  {
   "cell_type": "code",
   "execution_count": 99,
   "id": "5bba31fc",
   "metadata": {},
   "outputs": [],
   "source": [
    "# Criar índice FAISS\n",
    "dimension = candidato_vectors.shape[1]\n",
    "index = faiss.IndexFlatL2(dimension)\n",
    "index.add(candidato_vectors)"
   ]
  },
  {
   "cell_type": "code",
   "execution_count": 100,
   "id": "23dea989",
   "metadata": {},
   "outputs": [],
   "source": [
    "# Buscar candidatos mais similares a uma vaga nova\n",
    "nova_vaga = \"Procuramos uma engenheira de machine learning experiente em processamento de linguagem natural e deep learning.\"\n",
    "vaga_vector = get_embedding(nova_vaga).astype('float32').reshape(1, -1)"
   ]
  },
  {
   "cell_type": "code",
   "execution_count": 101,
   "id": "901d6c5d",
   "metadata": {},
   "outputs": [
    {
     "name": "stdout",
     "output_type": "stream",
     "text": [
      "Top candidatos similares:\n",
      "1: Desenvolvedor Python sênior com interesse em machine learning. (distância: 16.7690)\n",
      "2: Engenheira de ML com foco em PLN e experiência em transformers. (distância: 24.8443)\n",
      "3: Cientista de dados especializado em análise estatística. (distância: 42.1393)\n"
     ]
    }
   ],
   "source": [
    "# Buscar top-3 candidatos mais próximos\n",
    "distances, indices = index.search(vaga_vector, k=3)\n",
    "\n",
    "# Mostrar resultados\n",
    "print(\"Top candidatos similares:\")\n",
    "for i, idx in enumerate(indices[0]):\n",
    "    print(f\"{i+1}: {candidatos[idx]} (distância: {distances[0][i]:.4f})\")"
   ]
  },
  {
   "cell_type": "code",
   "execution_count": null,
   "id": "3bee6685",
   "metadata": {},
   "outputs": [],
   "source": [
    "Top candidatos similares:\n",
    "1: Engenheira de ML com foco em PLN e experiência em transformers. (distância: 9.3231)\n",
    "2: Desenvolvedor Python sênior com interesse em machine learning. (distância: 27.1424)\n",
    "3: Cientista de dados especializado em análise estatística. (distância: 384.6907)"
   ]
  },
  {
   "cell_type": "code",
   "execution_count": null,
   "id": "93f426ed",
   "metadata": {},
   "outputs": [],
   "source": [
    "job_description = \"Procuramos uma engenheira de machine learning experiente em processamento de linguagem natural e deep learning.\"\n",
    "candidates = [ \n",
    "    {\"id\": 1, \"name\": \"Alice\", \"resume\": \"Engenheira de ML com foco em NLP e experiência em transformers.\"},\n",
    "    {\"id\": 2, \"name\": \"Bob\", \"resume\": \"Desenvolvedor Python sênior com interesse em machine learning.\"},\n",
    "    {\"id\": 3, \"name\": \"Charlie\", \"resume\": \"Cientista de dados especializado em análise estatística.\"},"
   ]
  },
  {
   "cell_type": "markdown",
   "id": "10c848e0",
   "metadata": {},
   "source": [
    "# Teste com o Qdrant"
   ]
  },
  {
   "cell_type": "code",
   "execution_count": 32,
   "id": "1dec5e26",
   "metadata": {},
   "outputs": [],
   "source": [
    "from qdrant_client import QdrantClient\n",
    "from qdrant_client.models import Distance, VectorParams, PointStruct"
   ]
  },
  {
   "cell_type": "code",
   "execution_count": 30,
   "id": "7ca4a10e",
   "metadata": {},
   "outputs": [],
   "source": [
    "client = QdrantClient(host=\"localhost\", port=6333)"
   ]
  },
  {
   "cell_type": "code",
   "execution_count": 60,
   "id": "3c31939b",
   "metadata": {},
   "outputs": [
    {
     "data": {
      "text/plain": [
       "True"
      ]
     },
     "execution_count": 60,
     "metadata": {},
     "output_type": "execute_result"
    }
   ],
   "source": [
    "client.create_collection(\n",
    "    collection_name=\"applicants\",\n",
    "    vectors_config=VectorParams(size=768, distance=Distance.COSINE),\n",
    ")\n",
    "\n",
    "client.create_collection(\n",
    "    collection_name=\"vacancies\",\n",
    "    vectors_config=VectorParams(size=768, distance=Distance.COSINE),\n",
    ")"
   ]
  },
  {
   "cell_type": "code",
   "execution_count": 61,
   "id": "7445b0eb",
   "metadata": {},
   "outputs": [
    {
     "data": {
      "text/plain": [
       "UpdateResult(operation_id=0, status=<UpdateStatus.COMPLETED: 'completed'>)"
      ]
     },
     "execution_count": 61,
     "metadata": {},
     "output_type": "execute_result"
    }
   ],
   "source": [
    "candidatos = [\n",
    "    {\"id\": 1, \"descricao\": \"Engenheira de ML com foco em NLP e experiência em transformers.\"},\n",
    "    {\"id\": 2, \"descricao\": \"Desenvolvedor Python sênior com interesse em machine learning.\"},\n",
    "    {\"id\": 3, \"descricao\": \"Cientista de dados especializado em análise estatística.\"},\n",
    "]\n",
    "\n",
    "client.upsert(\n",
    "    collection_name=\"applicants\",\n",
    "    points=[\n",
    "        PointStruct(\n",
    "            id=c[\"id\"],\n",
    "            vector=get_embedding(c[\"descricao\"]),\n",
    "            payload={\"descricao\": c[\"descricao\"]}\n",
    "        )\n",
    "        for c in candidatos\n",
    "    ]\n",
    ")"
   ]
  },
  {
   "cell_type": "code",
   "execution_count": 64,
   "id": "d80d78cf",
   "metadata": {},
   "outputs": [],
   "source": [
    "vaga_vector = get_embedding(\"Estatístico\")\n",
    "\n",
    "# Realiza a busca no índice\n",
    "resultados = client.query_points(\n",
    "    collection_name=\"applicants\",\n",
    "    query=vaga_vector,\n",
    "    limit=5  # top 5 candidatos mais similares\n",
    ")\n",
    "\n",
    "# Mostra os resultados\n",
    "\n",
    "    #print(f\"ID: {r.id} | Score: {r.score:.4f} | Descrição: {r.payload['descricao']}\")"
   ]
  },
  {
   "cell_type": "code",
   "execution_count": 65,
   "id": "6f1d5142",
   "metadata": {},
   "outputs": [
    {
     "name": "stdout",
     "output_type": "stream",
     "text": [
      "ID: 3 | Score: 0.5543 | Descrição: Cientista de dados especializado em análise estatística.\n",
      "ID: 1 | Score: 0.3292 | Descrição: Engenheira de ML com foco em NLP e experiência em transformers.\n",
      "ID: 2 | Score: 0.3207 | Descrição: Desenvolvedor Python sênior com interesse em machine learning.\n"
     ]
    }
   ],
   "source": [
    "for r in resultados.points:\n",
    "    print(f\"ID: {r.id} | Score: {r.score:.4f} | Descrição: {r.payload['descricao']}\")"
   ]
  },
  {
   "cell_type": "code",
   "execution_count": null,
   "id": "3fd8aade",
   "metadata": {},
   "outputs": [],
   "source": [
    "scp -r 192.168.101.186:~/Workspace/fiap-2mlet-datathon/data_engineering/tokenizer_model_bert_20250508 ./"
   ]
  }
 ],
 "metadata": {
  "kernelspec": {
   "display_name": ".venv",
   "language": "python",
   "name": "python3"
  },
  "language_info": {
   "codemirror_mode": {
    "name": "ipython",
    "version": 3
   },
   "file_extension": ".py",
   "mimetype": "text/x-python",
   "name": "python",
   "nbconvert_exporter": "python",
   "pygments_lexer": "ipython3",
   "version": "3.10.15"
  }
 },
 "nbformat": 4,
 "nbformat_minor": 5
}
